{
 "cells": [
  {
   "cell_type": "markdown",
   "id": "0",
   "metadata": {},
   "source": [
    "# Transform 3D data coordinates in matplotlib plot to 2D display coordinate"
   ]
  },
  {
   "cell_type": "code",
   "execution_count": null,
   "id": "1",
   "metadata": {},
   "outputs": [],
   "source": [
    "import math\n",
    "\n",
    "import matplotlib.pyplot as plt\n",
    "import numpy as np\n",
    "\n",
    "import project_3d_reconstruction.mpl as proj_mpl"
   ]
  },
  {
   "cell_type": "code",
   "execution_count": null,
   "id": "2",
   "metadata": {},
   "outputs": [],
   "source": [
    "# Generate 3D test points.\n",
    "rng = np.random.default_rng()\n",
    "points = rng.uniform(size=(20, 3))\n",
    "\n",
    "# Scatter plot\n",
    "fig, ax = plt.subplots(figsize=(4, 4), subplot_kw={\"projection\": \"3d\"})\n",
    "ax.scatter(*points.T)\n",
    "fig.tight_layout()\n",
    "\n",
    "# Compute expected display coordinates\n",
    "display_coords = proj_mpl.axes_coords_3d2display(ax, points)\n",
    "\n",
    "# Export figure to image buffer.\n",
    "image_data = proj_mpl.fig_export_rgba(fig)\n",
    "\n",
    "# Color the pixels where we expected the original points to fall in.\n",
    "for c_x, c_y in display_coords:\n",
    "    image_data[\n",
    "        -math.ceil(c_y + 2) : -math.floor(c_y - 2),\n",
    "        math.floor(c_x - 2) : math.ceil(c_x + 2),\n",
    "    ] = [255, 0, 0, 255]\n",
    "\n",
    "# Plot result\n",
    "fig2, ax2 = plt.subplots(figsize=(8, 8))\n",
    "ax2.imshow(image_data)\n",
    "fig2.tight_layout()"
   ]
  }
 ],
 "metadata": {
  "kernelspec": {
   "display_name": "Python 3",
   "language": "python",
   "name": "python3"
  },
  "language_info": {
   "codemirror_mode": {
    "name": "ipython",
    "version": 2
   },
   "file_extension": ".py",
   "mimetype": "text/x-python",
   "name": "python",
   "nbconvert_exporter": "python",
   "pygments_lexer": "ipython2",
   "version": "2.7.6"
  }
 },
 "nbformat": 4,
 "nbformat_minor": 5
}
