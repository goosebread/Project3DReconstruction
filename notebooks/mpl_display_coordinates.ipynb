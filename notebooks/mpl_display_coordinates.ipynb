{
 "cells": [
  {
   "cell_type": "markdown",
   "id": "0",
   "metadata": {},
   "source": [
    "# WIP Transform 3D data coordinates in matplotlib plot to 2D display coordinate"
   ]
  },
  {
   "cell_type": "code",
   "execution_count": null,
   "id": "1",
   "metadata": {},
   "outputs": [
    {
     "name": "stdout",
     "output_type": "stream",
     "text": [
      "[[ 94.9622758  141.19834264]\n",
      " [412.25081789 380.25613104]\n",
      " [559.9166732  296.06584287]]\n",
      "(480, 640, 3)\n"
     ]
    }
   ],
   "source": [
    "import io\n",
    "import math\n",
    "\n",
    "import matplotlib.pyplot as plt\n",
    "import numpy as np\n",
    "from PIL import Image\n",
    "\n",
    "import project_3d_reconstruction.mpl_3d as proj_mpl\n",
    "\n",
    "# Arbitrary 3D data points.\n",
    "points = np.array([(1, 1, 1), (2, 3, 4), (3, 3, 3)])\n",
    "\n",
    "# Scatter plot\n",
    "fig, ax = plt.subplots(subplot_kw={\"projection\": \"3d\"}, nrows=1)\n",
    "ax.scatter(*points.T)\n",
    "fig.tight_layout()\n",
    "\n",
    "# Compute expected display coordinates\n",
    "display_coords = proj_mpl.axes_proj_display_coords(ax, points)\n",
    "print(display_coords)\n",
    "\n",
    "# Export figure to image buffer.\n",
    "buffer = io.BytesIO()\n",
    "fig.savefig(buffer, format=\"png\", pad_inches=\"tight\")\n",
    "buffer.seek(0)\n",
    "image_data = np.array(Image.open(buffer).convert(\"RGB\"))\n",
    "print(image_data.shape)\n",
    "\n",
    "# Color the pixels where we expected the original points to fall in.\n",
    "for c_x, c_y in display_coords:\n",
    "    image_data[\n",
    "        -math.ceil(c_y + 10) : -math.floor(c_y - 10),\n",
    "        math.floor(c_x - 10) : math.ceil(c_x + 10),\n",
    "    ] = [255, 0, 0]\n",
    "\n",
    "# Plot result\n",
    "fig2, ax2 = plt.subplots()\n",
    "ax2.imshow(image_data)\n",
    "fig2.tight_layout()"
   ]
  }
 ],
 "metadata": {
  "kernelspec": {
   "display_name": "Python 3",
   "language": "python",
   "name": "python3"
  },
  "language_info": {
   "codemirror_mode": {
    "name": "ipython",
    "version": 2
   },
   "file_extension": ".py",
   "mimetype": "text/x-python",
   "name": "python",
   "nbconvert_exporter": "python",
   "pygments_lexer": "ipython2",
   "version": "2.7.6"
  }
 },
 "nbformat": 4,
 "nbformat_minor": 5
}
