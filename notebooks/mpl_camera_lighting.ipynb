{
 "cells": [
  {
   "cell_type": "markdown",
   "id": "0",
   "metadata": {},
   "source": [
    "# Camera and lighting controls in `matplotlib` \n",
    "\n",
    "Demonstrates how to control the camera position and lighting in `matplotlib`.\n"
   ]
  },
  {
   "cell_type": "code",
   "execution_count": null,
   "id": "1",
   "metadata": {},
   "outputs": [],
   "source": [
    "from __future__ import annotations\n",
    "\n",
    "import random\n",
    "from typing import TYPE_CHECKING, Final\n",
    "\n",
    "import matplotlib as mpl\n",
    "import matplotlib.pyplot as plt\n",
    "import numpy as np\n",
    "\n",
    "if TYPE_CHECKING:\n",
    "    from mpl_toolkits.mplot3d.axes3d import Axes3D"
   ]
  },
  {
   "cell_type": "markdown",
   "id": "2",
   "metadata": {},
   "source": [
    "## Configure parameter ranges"
   ]
  },
  {
   "cell_type": "code",
   "execution_count": null,
   "id": "3",
   "metadata": {},
   "outputs": [],
   "source": [
    "AZIMUTH_RANGE: Final = (-120, 0)\n",
    "ELEVATION_RANGE: Final = (-20, 50)\n",
    "ROLL_RANGE: Final = (-10, 10)\n",
    "ZOOM_RANGE: Final = (0.5, 1.5)\n",
    "FOCAL_LENGTH_RANGE: Final = (0.05, 1)"
   ]
  },
  {
   "cell_type": "markdown",
   "id": "4",
   "metadata": {},
   "source": [
    "## Generate simple scene"
   ]
  },
  {
   "cell_type": "code",
   "execution_count": null,
   "id": "5",
   "metadata": {},
   "outputs": [],
   "source": [
    "x, y, z = np.indices((8, 8, 8))\n",
    "\n",
    "cube1 = (x < 3) & (y < 3) & (z < 3)  # noqa: PLR2004\n",
    "cube2 = (x >= 5) & (y >= 5) & (z >= 5)  # noqa: PLR2004\n",
    "link = abs(x - y) + abs(y - z) + abs(z - x) <= 2  # noqa: PLR2004\n",
    "\n",
    "voxelarray = cube1 | cube2 | link\n",
    "\n",
    "colors = np.empty(voxelarray.shape, dtype=object)\n",
    "colors[link] = \"tab:red\"\n",
    "colors[cube1] = \"tab:blue\"\n",
    "colors[cube2] = \"tab:green\"\n",
    "\n",
    "ax: Axes3D\n",
    "fig, ax = plt.subplots(subplot_kw={\"projection\": \"3d\"}, figsize=(8, 8))\n",
    "ax.axis(\"off\")\n",
    "ax.voxels(voxelarray, facecolors=colors, edgecolors=colors)\n",
    "fig.suptitle(\"Base scene\");"
   ]
  },
  {
   "cell_type": "markdown",
   "id": "6",
   "metadata": {},
   "source": [
    "## Vary camera view"
   ]
  },
  {
   "cell_type": "code",
   "execution_count": null,
   "id": "7",
   "metadata": {},
   "outputs": [],
   "source": [
    "grid_size = 4\n",
    "fig, axs = plt.subplots(\n",
    "    nrows=grid_size,\n",
    "    ncols=grid_size,\n",
    "    tight_layout=True,\n",
    "    subplot_kw={\"projection\": \"3d\"},\n",
    "    figsize=(8, 8),\n",
    ")\n",
    "\n",
    "for ax in axs.flat:\n",
    "    ax.axis(\"off\")\n",
    "    ax.voxels(voxelarray, facecolors=colors, edgecolors=colors)\n",
    "\n",
    "    elev = random.uniform(*ELEVATION_RANGE)\n",
    "    azim = random.uniform(*AZIMUTH_RANGE)\n",
    "    roll = random.uniform(*ROLL_RANGE)\n",
    "    focal = random.uniform(*FOCAL_LENGTH_RANGE)\n",
    "    zoom = random.uniform(*ZOOM_RANGE)\n",
    "\n",
    "    ax.view_init(elev=elev, azim=azim, roll=roll)\n",
    "    ax.set_proj_type(\"persp\", focal_length=focal)\n",
    "    ax.set_box_aspect(None, zoom=zoom)\n",
    "    ax.set_title(\n",
    "        f\"ev={elev:.1f}, az={azim:.1f}, rl={roll:.1f}\\nfl={focal:.1f}, zm={zoom:.1f}\",\n",
    "        fontsize=6,\n",
    "    )"
   ]
  },
  {
   "cell_type": "markdown",
   "id": "8",
   "metadata": {},
   "source": [
    "## Vary lighting\n",
    "\n",
    "See [`matplotlib.colors.LightSource`](https://matplotlib.org/stable/api/_as_gen/matplotlib.colors.LightSource.html#matplotlib.colors.LightSource)."
   ]
  },
  {
   "cell_type": "code",
   "execution_count": null,
   "id": "9",
   "metadata": {},
   "outputs": [],
   "source": [
    "grid_size = 4\n",
    "fig, axs = plt.subplots(\n",
    "    nrows=grid_size,\n",
    "    ncols=grid_size,\n",
    "    tight_layout=True,\n",
    "    subplot_kw={\"projection\": \"3d\"},\n",
    "    figsize=(8, 8),\n",
    ")\n",
    "\n",
    "for ax in axs.flat:\n",
    "    elev = random.uniform(-90, 90)\n",
    "    azim = random.uniform(0, 360)\n",
    "    ls = mpl.colors.LightSource(altdeg=elev, azdeg=azim)\n",
    "\n",
    "    ax.axis(\"off\")\n",
    "    ax.voxels(voxelarray, facecolors=colors, edgecolors=colors, lightsource=ls)\n",
    "    ax.set_title(f\"ev={elev:.1f}, az={azim:.1f}\", fontsize=6)"
   ]
  }
 ],
 "metadata": {
  "kernelspec": {
   "display_name": "Python 3",
   "language": "python",
   "name": "python3"
  },
  "language_info": {
   "codemirror_mode": {
    "name": "ipython",
    "version": 2
   },
   "file_extension": ".py",
   "mimetype": "text/x-python",
   "name": "python",
   "nbconvert_exporter": "python",
   "pygments_lexer": "ipython2",
   "version": "2.7.6"
  }
 },
 "nbformat": 4,
 "nbformat_minor": 5
}
