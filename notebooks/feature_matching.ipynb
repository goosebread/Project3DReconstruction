{
 "cells": [
  {
   "cell_type": "markdown",
   "id": "0",
   "metadata": {},
   "source": [
    "# SIFT Feature Matching\n",
    "\n",
    "Key References\n",
    "- https://docs.opencv.org/4.x/da/df5/tutorial_py_sift_intro.html\n",
    "- https://docs.opencv.org/4.x/dc/dc3/tutorial_py_matcher.html"
   ]
  },
  {
   "cell_type": "code",
   "execution_count": null,
   "id": "1",
   "metadata": {},
   "outputs": [],
   "source": [
    "from __future__ import annotations\n",
    "\n",
    "from typing import TYPE_CHECKING\n",
    "\n",
    "import cv2 as cv\n",
    "import matplotlib.pyplot as plt\n",
    "import numpy as np\n",
    "\n",
    "import project_3d_reconstruction.mpl as proj_mpl\n",
    "\n",
    "if TYPE_CHECKING:\n",
    "    from mpl_toolkits.mplot3d.axes3d import Axes3D"
   ]
  },
  {
   "cell_type": "markdown",
   "id": "2",
   "metadata": {},
   "source": [
    "# Generate simple scene"
   ]
  },
  {
   "cell_type": "code",
   "execution_count": null,
   "id": "3",
   "metadata": {},
   "outputs": [],
   "source": [
    "x, y, z = np.indices((8, 8, 8))\n",
    "\n",
    "cube1 = (x < 3) & (y < 3) & (z < 3)  # noqa: PLR2004\n",
    "cube2 = (x >= 5) & (y >= 5) & (z >= 5)  # noqa: PLR2004\n",
    "link = abs(x - y) + abs(y - z) + abs(z - x) <= 2  # noqa: PLR2004\n",
    "\n",
    "voxelarray = cube1 | cube2 | link\n",
    "\n",
    "colors = np.empty(voxelarray.shape, dtype=object)\n",
    "colors[link] = \"tab:red\"\n",
    "colors[cube1] = \"tab:blue\"\n",
    "colors[cube2] = \"tab:green\"\n",
    "\n",
    "ax: Axes3D\n",
    "fig, ax = plt.subplots(subplot_kw={\"projection\": \"3d\"}, figsize=(8, 8))\n",
    "ax.axis(\"off\")\n",
    "ax.voxels(voxelarray, facecolors=colors, edgecolors=colors)\n",
    "fig.tight_layout()"
   ]
  },
  {
   "cell_type": "markdown",
   "id": "4",
   "metadata": {},
   "source": [
    "# Save image from two perspectives."
   ]
  },
  {
   "cell_type": "code",
   "execution_count": null,
   "id": "5",
   "metadata": {},
   "outputs": [],
   "source": [
    "ax.view_init(elev=30, azim=-60)\n",
    "image_1 = proj_mpl.fig_export_rgba(fig)\n",
    "\n",
    "ax.view_init(elev=25, azim=-55)\n",
    "image_2 = proj_mpl.fig_export_rgba(fig)\n",
    "\n",
    "gray_1 = cv.cvtColor(image_1, cv.COLOR_BGR2GRAY)\n",
    "gray_2 = cv.cvtColor(image_2, cv.COLOR_BGR2GRAY)\n",
    "\n",
    "ifig, iaxs = plt.subplots(ncols=2, figsize=(8, 8))\n",
    "iaxs[0].imshow(image_1)\n",
    "iaxs[1].imshow(image_2)\n",
    "ifig.tight_layout()"
   ]
  },
  {
   "cell_type": "markdown",
   "id": "6",
   "metadata": {},
   "source": [
    "# Detect SIFT features"
   ]
  },
  {
   "cell_type": "code",
   "execution_count": null,
   "id": "7",
   "metadata": {},
   "outputs": [],
   "source": [
    "sift = cv.SIFT_create()\n",
    "kp1, des1 = sift.detectAndCompute(gray_1, None)\n",
    "kp2, des2 = sift.detectAndCompute(gray_2, None)\n",
    "\n",
    "image_kp_1 = cv.drawKeypoints(\n",
    "    gray_1, kp1, image_1, flags=cv.DRAW_MATCHES_FLAGS_DRAW_RICH_KEYPOINTS\n",
    ")\n",
    "image_kp_2 = cv.drawKeypoints(\n",
    "    gray_2, kp2, image_2, flags=cv.DRAW_MATCHES_FLAGS_DRAW_RICH_KEYPOINTS\n",
    ")\n",
    "\n",
    "ifig, iaxs = plt.subplots(ncols=2, figsize=(8, 8))\n",
    "iaxs[0].imshow(image_kp_1)\n",
    "iaxs[1].imshow(image_kp_2);"
   ]
  },
  {
   "cell_type": "markdown",
   "id": "8",
   "metadata": {},
   "source": [
    "# Match features (FLANN)"
   ]
  },
  {
   "cell_type": "code",
   "execution_count": null,
   "id": "9",
   "metadata": {},
   "outputs": [],
   "source": [
    "index_params = {\"algorithm\": 1, \"trees\": 5}\n",
    "search_params = {\"checks\": 50}\n",
    "flann = cv.FlannBasedMatcher(index_params, search_params)\n",
    "\n",
    "flann_matches = flann.knnMatch(des1, des2, k=2)\n",
    "\n",
    "match_mask = [[0, 0] for i in range(len(flann_matches))]\n",
    "for i, (m, n) in enumerate(flann_matches):\n",
    "    if m.distance < 0.7 * n.distance:\n",
    "        match_mask[i] = [1, 0]\n",
    "\n",
    "draw_params = {\n",
    "    \"matchColor\": (0, 255, 0),\n",
    "    \"singlePointColor\": (255, 0, 0),\n",
    "    \"matchesMask\": match_mask,\n",
    "    \"flags\": cv.DrawMatchesFlags_DEFAULT,\n",
    "}\n",
    "image_matches = cv.drawMatchesKnn(\n",
    "    image_1, kp1, image_2, kp2, flann_matches, None, **draw_params\n",
    ")\n",
    "\n",
    "ifig, iax = plt.subplots()\n",
    "iax.imshow(image_matches)\n",
    "ifig.tight_layout()"
   ]
  },
  {
   "cell_type": "markdown",
   "id": "10",
   "metadata": {},
   "source": [
    "# Match features (brute-force)"
   ]
  },
  {
   "cell_type": "code",
   "execution_count": null,
   "id": "11",
   "metadata": {},
   "outputs": [],
   "source": [
    "bf = cv.BFMatcher()\n",
    "bf_matches = bf.knnMatch(des1, des2, k=2)\n",
    "\n",
    "good = []\n",
    "for m, n in bf_matches:\n",
    "    if m.distance < 0.75 * n.distance:\n",
    "        good.append([m])\n",
    "\n",
    "image_matches = cv.drawMatchesKnn(\n",
    "    image_1,\n",
    "    kp1,\n",
    "    image_2,\n",
    "    kp2,\n",
    "    good,\n",
    "    None,\n",
    "    flags=cv.DrawMatchesFlags_NOT_DRAW_SINGLE_POINTS,\n",
    ")\n",
    "\n",
    "\n",
    "ifig, iax = plt.subplots()\n",
    "iax.imshow(image_matches)\n",
    "ifig.tight_layout()"
   ]
  }
 ],
 "metadata": {
  "kernelspec": {
   "display_name": "Python 3",
   "language": "python",
   "name": "python3"
  },
  "language_info": {
   "codemirror_mode": {
    "name": "ipython",
    "version": 2
   },
   "file_extension": ".py",
   "mimetype": "text/x-python",
   "name": "python",
   "nbconvert_exporter": "python",
   "pygments_lexer": "ipython2",
   "version": "2.7.6"
  }
 },
 "nbformat": 4,
 "nbformat_minor": 5
}
