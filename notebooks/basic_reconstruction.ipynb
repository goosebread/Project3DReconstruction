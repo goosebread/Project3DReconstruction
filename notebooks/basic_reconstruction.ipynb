{
 "cells": [
  {
   "cell_type": "markdown",
   "id": "0",
   "metadata": {},
   "source": [
    "# 3D reconstruction using 2 image\n",
    "\n",
    "Key References\n",
    "- https://www.opencvhelp.org/tutorials/advanced/reconstruction-opencv/"
   ]
  },
  {
   "cell_type": "code",
   "execution_count": null,
   "id": "1",
   "metadata": {},
   "outputs": [],
   "source": [
    "from __future__ import annotations\n",
    "\n",
    "from typing import TYPE_CHECKING\n",
    "\n",
    "import cv2 as cv\n",
    "import matplotlib as mpl\n",
    "import matplotlib.pyplot as plt\n",
    "import numpy as np\n",
    "import scipy.spatial.transform as sci_trans\n",
    "\n",
    "import project_3d_reconstruction.mpl as proj_mpl\n",
    "\n",
    "if TYPE_CHECKING:\n",
    "    from mpl_toolkits.mplot3d.axes3d import Axes3D"
   ]
  },
  {
   "cell_type": "markdown",
   "id": "2",
   "metadata": {},
   "source": [
    "# Generate simple scene"
   ]
  },
  {
   "cell_type": "code",
   "execution_count": null,
   "id": "3",
   "metadata": {},
   "outputs": [],
   "source": [
    "x, y, z = np.indices((16, 16, 16))\n",
    "\n",
    "cube1 = (x < 6) & (y < 6) & (z < 6)  # noqa: PLR2004\n",
    "cube2 = (x >= 10) & (y >= 10) & (z >= 10)  # noqa: PLR2004\n",
    "link = abs(x - y) + abs(y - z) + abs(z - x) <= 6  # noqa: PLR2004\n",
    "\n",
    "voxelarray = cube1 | cube2 | link\n",
    "\n",
    "colors = np.empty((*voxelarray.shape, 3))\n",
    "colors[link] = mpl.colors.to_rgb(\"tab:red\")\n",
    "colors[cube1] = mpl.colors.to_rgb(\"tab:blue\")\n",
    "colors[cube2] = mpl.colors.to_rgb(\"tab:green\")\n",
    "\n",
    "rng = np.random.default_rng()\n",
    "colors = np.clip(colors + rng.uniform(-0.5, 0.5, size=colors.shape), 0, 1)\n",
    "\n",
    "ax: Axes3D\n",
    "fig, ax = plt.subplots(subplot_kw={\"projection\": \"3d\"}, figsize=(8, 8))\n",
    "ax.axis(\"off\")\n",
    "ax.voxels(voxelarray, facecolors=colors, edgecolors=colors)\n",
    "fig.tight_layout()"
   ]
  },
  {
   "cell_type": "markdown",
   "id": "4",
   "metadata": {},
   "source": [
    "# Save image from two perspectives."
   ]
  },
  {
   "cell_type": "code",
   "execution_count": null,
   "id": "5",
   "metadata": {},
   "outputs": [],
   "source": [
    "ax.view_init(elev=30, azim=-60)\n",
    "image_1 = proj_mpl.fig_export_rgba(fig)\n",
    "eye_1 = proj_mpl.axes_eye_coordinate(ax)\n",
    "dir_1 = proj_mpl.axes_eye_direction(ax)\n",
    "\n",
    "ax.view_init(elev=20, azim=-50)\n",
    "image_2 = proj_mpl.fig_export_rgba(fig)\n",
    "eye_2 = proj_mpl.axes_eye_coordinate(ax)\n",
    "dir_2 = proj_mpl.axes_eye_direction(ax)\n",
    "\n",
    "gray_1 = cv.cvtColor(image_1, cv.COLOR_BGR2GRAY)\n",
    "gray_2 = cv.cvtColor(image_2, cv.COLOR_BGR2GRAY)\n",
    "\n",
    "ifig, iaxs = plt.subplots(ncols=2, figsize=(8, 8))\n",
    "iaxs[0].imshow(image_1)\n",
    "iaxs[1].imshow(image_2)\n",
    "ifig.tight_layout()"
   ]
  },
  {
   "cell_type": "markdown",
   "id": "6",
   "metadata": {},
   "source": [
    "# Detect SIFT features"
   ]
  },
  {
   "cell_type": "code",
   "execution_count": null,
   "id": "7",
   "metadata": {},
   "outputs": [],
   "source": [
    "sift = cv.SIFT_create()\n",
    "kp1, des1 = sift.detectAndCompute(gray_1, None)\n",
    "kp2, des2 = sift.detectAndCompute(gray_2, None)\n",
    "\n",
    "image_kp_1 = cv.drawKeypoints(\n",
    "    gray_1, kp1, image_1, flags=cv.DRAW_MATCHES_FLAGS_DRAW_RICH_KEYPOINTS\n",
    ")\n",
    "image_kp_2 = cv.drawKeypoints(\n",
    "    gray_2, kp2, image_2, flags=cv.DRAW_MATCHES_FLAGS_DRAW_RICH_KEYPOINTS\n",
    ")\n",
    "\n",
    "ifig, iaxs = plt.subplots(ncols=2, figsize=(8, 8))\n",
    "iaxs[0].imshow(image_kp_1)\n",
    "iaxs[1].imshow(image_kp_2);"
   ]
  },
  {
   "cell_type": "markdown",
   "id": "8",
   "metadata": {},
   "source": [
    "# Match features (brute-force)"
   ]
  },
  {
   "cell_type": "code",
   "execution_count": null,
   "id": "9",
   "metadata": {},
   "outputs": [],
   "source": [
    "bf = cv.BFMatcher()\n",
    "bf_matches = bf.knnMatch(des1, des2, k=2)\n",
    "\n",
    "good = []\n",
    "for m, n in bf_matches:\n",
    "    if m.distance < 0.75 * n.distance:\n",
    "        good.append([m])\n",
    "\n",
    "image_matches = cv.drawMatchesKnn(\n",
    "    image_1,\n",
    "    kp1,\n",
    "    image_2,\n",
    "    kp2,\n",
    "    good,\n",
    "    None,\n",
    "    flags=cv.DrawMatchesFlags_NOT_DRAW_SINGLE_POINTS,\n",
    ")\n",
    "\n",
    "\n",
    "ifig, iax = plt.subplots()\n",
    "iax.imshow(image_matches)\n",
    "ifig.tight_layout()"
   ]
  },
  {
   "cell_type": "markdown",
   "id": "10",
   "metadata": {},
   "source": [
    "# Estimate essential matrix"
   ]
  },
  {
   "cell_type": "code",
   "execution_count": null,
   "id": "11",
   "metadata": {},
   "outputs": [],
   "source": [
    "points_1 = np.array([kp1[match.queryIdx].pt for [match] in good])[:, np.newaxis, :]\n",
    "points_2 = np.array([kp2[match.trainIdx].pt for [match] in good])[:, np.newaxis, :]\n",
    "\n",
    "intrinsic_mat = np.eye(3)\n",
    "essential_mat, mask = cv.findEssentialMat(\n",
    "    points_1, points_2, intrinsic_mat, method=cv.RANSAC, prob=1 - 1e-4, threshold=1\n",
    ")\n",
    "\n",
    "_, est_rot, est_trans, _ = cv.recoverPose(\n",
    "    essential_mat, points_1, points_2, intrinsic_mat, mask=mask\n",
    ")"
   ]
  },
  {
   "cell_type": "code",
   "execution_count": null,
   "id": "12",
   "metadata": {},
   "outputs": [
    {
     "data": {
      "text/plain": [
       "(-1.0, 1.0)"
      ]
     },
     "execution_count": null,
     "metadata": {},
     "output_type": "execute_result"
    }
   ],
   "source": [
    "est_extrinsic = np.hstack((est_rot, est_trans))\n",
    "\n",
    "act_rot = sci_trans.Rotation.align_vectors(dir_2, dir_1)[0].as_matrix()\n",
    "act_extrinsic = np.hstack((act_rot, np.reshape(dir_2 - dir_1, (-1, 1))))\n",
    "origin = np.hstack((np.eye(3), np.zeros((3, 1))))\n",
    "\n",
    "all_extrinsics = [origin, act_extrinsic, est_extrinsic]\n",
    "base_colors = [\n",
    "    mpl.colors.to_rgb(\"tab:blue\"),\n",
    "    mpl.colors.to_rgb(\"tab:green\"),\n",
    "    mpl.colors.to_rgb(\"tab:red\"),\n",
    "]\n",
    "cfig, cax = plt.subplots(subplot_kw={\"projection\": \"3d\"})\n",
    "for mat, color in zip(all_extrinsics, base_colors, strict=False):\n",
    "    pos = mat[:, 3]\n",
    "    for column, weight in zip(mat[:, :3].T, [1, 0.8, 0.5], strict=False):\n",
    "        cax.quiver(*pos, *column, color=np.array(color) * weight)\n",
    "\n",
    "fig.tight_layout()\n",
    "cax.set_xlim3d(-1, 1)\n",
    "cax.set_ylim3d(-1, 1)\n",
    "cax.set_zlim3d(-1, 1)\n",
    "# cax.voxels(voxelarray, facecolors=colors, edgecolors=colors);"
   ]
  },
  {
   "cell_type": "code",
   "id": "13",
   "metadata": {},
   "outputs": [],
   "source": []
  }
 ],
 "metadata": {
  "kernelspec": {
   "display_name": "Python 3",
   "language": "python",
   "name": "python3"
  },
  "language_info": {
   "codemirror_mode": {
    "name": "ipython",
    "version": 2
   },
   "file_extension": ".py",
   "mimetype": "text/x-python",
   "name": "python",
   "nbconvert_exporter": "python",
   "pygments_lexer": "ipython2",
   "version": "2.7.6"
  }
 },
 "nbformat": 4,
 "nbformat_minor": 5
}
